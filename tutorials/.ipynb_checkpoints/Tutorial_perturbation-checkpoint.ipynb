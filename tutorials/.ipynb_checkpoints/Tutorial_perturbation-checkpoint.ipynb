{
 "cells": [
  {
   "cell_type": "markdown",
   "metadata": {},
   "source": [
    "# Fine-tuning to predict the driver gene on example dataset"
   ]
  },
  {
   "cell_type": "markdown",
   "metadata": {},
   "source": [
    "## Training"
   ]
  },
  {
   "cell_type": "markdown",
   "metadata": {},
   "source": [
    "### Follow the README.md for training preparations, including datasets and pretrained files. "
   ]
  },
  {
   "cell_type": "code",
   "execution_count": 1,
   "metadata": {},
   "outputs": [],
   "source": [
    "## Here we use the toy dataset 'set3_example_train.h5ad' and 'set3_example_test.h5ad' as an example. \n",
    "## The dataset link has been given in README.md.\n",
    "\n",
    "import os\n",
    "\n",
    "os.system('bash launch_train.sh')"
   ]
  },
  {
   "cell_type": "markdown",
   "metadata": {},
   "source": [
    "## Testing "
   ]
  },
  {
   "cell_type": "markdown",
   "metadata": {},
   "source": [
    "### Load results and evaluate. "
   ]
  },
  {
   "cell_type": "code",
   "execution_count": 2,
   "metadata": {},
   "outputs": [],
   "source": [
    "## Here we load results on step 1000 as an example. \n",
    "## The link for 'checkpoint-step-1000.pth' has been given in README.md.\n",
    "\n",
    "import os\n",
    "\n",
    "os.system('python load_results.py -c 1000')"
   ]
  },
  {
   "cell_type": "code",
   "execution_count": 3,
   "metadata": {},
   "outputs": [
    {
     "name": "stdout",
     "output_type": "stream",
     "text": [
      "                      ABCB10    AKAP12      ALX4  APOBEC3C  APOBEC3D  \\\n",
      "TGCATCCTCGATCCAA-4 -7.821463 -1.156066  0.904565 -5.127326 -7.951521   \n",
      "TTGGATGGTATCCTCC-2 -7.477587 -1.947112 -1.975892 -1.696544 -7.003691   \n",
      "AACCACAGTCTCCCTA-1 -9.641579 -3.978698 -5.091012 -5.724802 -5.395859   \n",
      "TAGAGTCTCATGGATC-4 -1.639565 -2.339934  0.846601 -3.660203 -7.996193   \n",
      "TTTCAGTTCCATTCGC-2 -3.726980 -3.369183 -4.184911  0.105774 -1.985862   \n",
      "\n",
      "                       APOL2   ARHGDIB    BICDL2      CBY1       CD2  ...  \\\n",
      "TGCATCCTCGATCCAA-4 -1.957271  2.360333 -5.758391 -6.885813 -9.281010  ...   \n",
      "TTGGATGGTATCCTCC-2 -2.546962  1.258157 -2.950146 -0.769823 -4.229147  ...   \n",
      "AACCACAGTCTCCCTA-1 -5.997128 -5.460759 -0.255089 -5.033724 -3.466392  ...   \n",
      "TAGAGTCTCATGGATC-4 -2.124491  1.050665 -0.941778  1.620585 -2.813236  ...   \n",
      "TTTCAGTTCCATTCGC-2 -2.452409  2.454847 -1.646882 -0.831029 -1.429325  ...   \n",
      "\n",
      "                       TBX21  TNFRSF1A   TNFRSF1B   TNFRSF9  TNFRSF12A  \\\n",
      "TGCATCCTCGATCCAA-4 -5.753242 -6.170871 -10.717887 -5.622791  -1.512885   \n",
      "TTGGATGGTATCCTCC-2 -5.560549 -3.188946 -10.100318 -3.876570   0.070525   \n",
      "AACCACAGTCTCCCTA-1 -5.730026 -2.677795  -4.256061 -3.211844   1.078254   \n",
      "TAGAGTCTCATGGATC-4 -3.543861 -5.370579 -10.807867 -0.852403   0.740322   \n",
      "TTTCAGTTCCATTCGC-2 -5.872741 -4.059673  -7.269981 -2.935251   0.625919   \n",
      "\n",
      "                    TRAF3IP2    TRIM21      VAV1       WT1  pred_gene  \n",
      "TGCATCCTCGATCCAA-4 -8.452597 -1.819332 -5.750784 -2.827259      IL1R1  \n",
      "TTGGATGGTATCCTCC-2 -3.797031 -4.854851 -7.181687  0.396741       LAT2  \n",
      "AACCACAGTCTCCCTA-1 -3.936965 -5.897006 -8.137145 -3.409272       CD27  \n",
      "TAGAGTCTCATGGATC-4 -3.069075  0.221845 -9.051618 -1.450138       SLA2  \n",
      "TTTCAGTTCCATTCGC-2 -4.718899 -2.151842 -6.627671  0.087041       LAT2  \n",
      "\n",
      "[5 rows x 71 columns]\n"
     ]
    }
   ],
   "source": [
    "import pandas as pd\n",
    "import scanpy as sc\n",
    "from sklearn.metrics import accuracy_score, f1_score\n",
    "import numpy as np\n",
    "\n",
    "\n",
    "df = pd.read_csv('set3_test_example_results.csv', index_col=0)\n",
    "df['pred_gene'] = df.idxmax(axis=1)\n",
    "print(df.head())\n"
   ]
  },
  {
   "cell_type": "code",
   "execution_count": 4,
   "metadata": {},
   "outputs": [
    {
     "name": "stdout",
     "output_type": "stream",
     "text": [
      "Testing accuracy (for toy dataset): 0.510\n",
      "Testing F1 score (for toy dataset): 0.498\n"
     ]
    }
   ],
   "source": [
    "adata = sc.read_h5ad('../dataset_full/set3_example_test.h5ad')\n",
    "perturb_gene = adata.obs['perturbation'].values\n",
    "\n",
    "\n",
    "perturb_gene = adata.obs['perturbation'].values\n",
    "pred_gene = df['pred_gene'].values\n",
    "\n",
    "\n",
    "accuracy = accuracy_score(perturb_gene, pred_gene)\n",
    "f1 = f1_score(perturb_gene, pred_gene, average='weighted')\n",
    "\n",
    "\n",
    "print(f\"Testing accuracy (for toy dataset): {accuracy:.3f}\")\n",
    "print(f\"Testing F1 score (for toy dataset): {f1:.3f}\")"
   ]
  }
 ],
 "metadata": {
  "kernelspec": {
   "display_name": "Python(r_env)",
   "language": "python",
   "name": "r_env"
  },
  "language_info": {
   "codemirror_mode": {
    "name": "ipython",
    "version": 3
   },
   "file_extension": ".py",
   "mimetype": "text/x-python",
   "name": "python",
   "nbconvert_exporter": "python",
   "pygments_lexer": "ipython3",
   "version": "3.12.4"
  }
 },
 "nbformat": 4,
 "nbformat_minor": 2
}
