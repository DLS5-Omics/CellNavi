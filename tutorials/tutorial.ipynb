{
 "cells": [
  {
   "cell_type": "markdown",
   "metadata": {},
   "source": [
    "# Fine-tuning to predict the driver gene on example dataset"
   ]
  },
  {
   "cell_type": "markdown",
   "metadata": {},
   "source": [
    "## Download pre-trained weights and example datasets"
   ]
  },
  {
   "cell_type": "code",
   "execution_count": 1,
   "metadata": {},
   "outputs": [],
   "source": [
    "import os\n",
    "\n",
    "dir_path_pretrain = \"../data/pretrain\"\n",
    "dir_path_model = \"../data/finetune/model\"\n",
    "dir_path_log = \"../data/log\"\n",
    "\n",
    "os.makedirs(dir_path_pretrain, exist_ok=True)\n",
    "os.makedirs(dir_path_model, exist_ok=True)\n",
    "os.makedirs(dir_path_log, exist_ok=True)"
   ]
  },
  {
   "cell_type": "markdown",
   "metadata": {},
   "source": [
    "#### For example dataset fine-tuning and inference, please refer to README.md and DOWNLOAD all the files below\n",
    "- `pretrain_weights.pth` under `../data/pretrain`\n",
    "- `Re-stimulated_t_example_train.h5ad` under `../data`\n",
    "- `Resting_t_example_test.h5ad` under `../data`\n",
    "- `dist_t_matrix.csv` under `../data`\n",
    "- `adj_t_matrix.csv` under `../data`\n",
    "- `checkpoint-step-1000.pth` under `../data/finetune/model`"
   ]
  },
  {
   "cell_type": "markdown",
   "metadata": {},
   "source": [
    "## Parameter tuning"
   ]
  },
  {
   "cell_type": "code",
   "execution_count": 2,
   "metadata": {},
   "outputs": [],
   "source": [
    "import json\n",
    "\n",
    "params = {\n",
    "    \"global_batch_size\": 128,\n",
    "    \"local_batch_size\": 1,\n",
    "    \"mixed_precision\": \"true\",\n",
    "    \"nr_step\": 1050,\n",
    "    \"warmup_step\": 500,\n",
    "    \"lr\": 0.001,\n",
    "    \"chk_time_interval\": 3600,\n",
    "    \"chk_step_interval\": 100,\n",
    "    \n",
    "    \"dataset_dir\": \"../data/\", ## directory of the training and testing dataset\n",
    "    \"log_dir\": \"../data/log\", ## directory of the training log\n",
    "    \"model_dir\": \"../data/finetune/model\", ## directory of the fine-tuing checkpoints\n",
    "    \"pretrain_model_dir\": \"../data/pretrain\", ## directory of pretrain_weights.pth\n",
    "\n",
    "    \"train_data\": \"Re-stimulated_t_example_train.h5ad\",\n",
    "    \"test_data\": \"Resting_t_example_test.h5ad\",\n",
    "    \"dist_graph\" : \"dist_t_matrix.csv\",\n",
    "    \"adj_graph\" : \"adj_t_matrix.csv\"\n",
    "\n",
    "}\n",
    "\n",
    "\n",
    "with open('../config.json', 'w') as f:\n",
    "    json.dump(params, f, indent=4)"
   ]
  },
  {
   "cell_type": "markdown",
   "metadata": {},
   "source": [
    "## Fine-tuning"
   ]
  },
  {
   "cell_type": "markdown",
   "metadata": {},
   "source": [
    "### Check training dataset"
   ]
  },
  {
   "cell_type": "code",
   "execution_count": 3,
   "metadata": {},
   "outputs": [
    {
     "data": {
      "text/plain": [
       "AnnData object with n_obs × n_vars = 5690 × 19240\n",
       "    obs: 'nCount_RNA', 'nFeature_RNA', 'orig.ident', 'condition', 'guide_id', 'gene', 'gene_category', 'crispr', 'donor', 'percent.mt', 'percent.ribo', 'nCount_SCT', 'nFeature_SCT', 'S.Score', 'G2M.Score', 'Phase', 'old.ident', 'CD4.CD8.Score', 'CD4.or.CD8', 'SCT_snn_res.0.4', 'seurat_clusters', 'cluster_name', 'activation.score', 'perturbation'\n",
       "    var: 'gene_ids', 'n_cells'"
      ]
     },
     "execution_count": 3,
     "metadata": {},
     "output_type": "execute_result"
    }
   ],
   "source": [
    "import scanpy as sc\n",
    "\n",
    "adata_train = sc.read_h5ad(params['dataset_dir']+params['train_data'])\n",
    "\n",
    "## The cell by gene matrix should be raw counts.\n",
    "adata_train"
   ]
  },
  {
   "cell_type": "code",
   "execution_count": 4,
   "metadata": {},
   "outputs": [
    {
     "data": {
      "text/plain": [
       "CGGAATTAGACTTCAC-6         IFNG\n",
       "ATTACCTAGGAGATAG-5       INPPL1\n",
       "TGGGTTAGTTGTATGC-5         GRAP\n",
       "CTCCCTCTCGGTAGGA-8       P2RY14\n",
       "GACCTTCTCATCTATC-6        IKZF3\n",
       "                        ...    \n",
       "TTCAGGACAGCAATTC-6      ARHGDIB\n",
       "AGACAAACAAGAGCTG-5        IL2RB\n",
       "AACCAACCAGACTGCC-7     APOBEC3C\n",
       "CATGCAAGTACATACC-5         CD28\n",
       "ACGGTTAGTACGATCT-8    NO-TARGET\n",
       "Name: perturbation, Length: 5690, dtype: category\n",
       "Categories (70, object): ['ABCB10', 'AKAP12', 'ALX4', 'APOBEC3C', ..., 'TRAF3IP2', 'TRIM21', 'VAV1', 'WT1']"
      ]
     },
     "execution_count": 4,
     "metadata": {},
     "output_type": "execute_result"
    }
   ],
   "source": [
    "## The perturbation label is stored in adata.obs.perturbation\n",
    "adata_train.obs.perturbation"
   ]
  },
  {
   "cell_type": "markdown",
   "metadata": {},
   "source": [
    "### CellNavi supports multi-node distributed computing on GPUs. \n",
    "\n",
    "### If you want to use the NCCL-based distributed architecture, please run `bash launch_train.sh` directly from the command line."
   ]
  },
  {
   "cell_type": "code",
   "execution_count": 5,
   "metadata": {},
   "outputs": [
    {
     "name": "stdout",
     "output_type": "stream",
     "text": [
      "CUDA is available. Number of GPUs: 1\n",
      "dataset info: ../data/Re-stimulated_t_example_train.h5ad 5690\n",
      "dataset info: ../data/Resting_t_example_test.h5ad 3158\n",
      "Train Step: [1010/1050], ce_loss: 2.152972, update_loss: 2.152972, top1_acc: 0.467969, top5_acc: 0.681641, top10_acc: 0.779818, top50_acc: 0.992188, top100_acc: 1.000000, Speed: 0.056 m/s, Passed: 0.050 h, Estimate: 0.199 h\n",
      "Train Step: [1020/1050], ce_loss: 2.077976, update_loss: 2.077976, top1_acc: 0.472656, top5_acc: 0.705729, top10_acc: 0.805339, top50_acc: 1.000000, top100_acc: 1.000000, Speed: 0.054 m/s, Passed: 0.100 h, Estimate: 0.149 h\n",
      "Train Step: [1030/1050], ce_loss: 2.015243, update_loss: 2.015243, top1_acc: 0.486328, top5_acc: 0.768229, top10_acc: 0.841797, top50_acc: 0.992188, top100_acc: 1.000000, Speed: 0.055 m/s, Passed: 0.149 h, Estimate: 0.099 h\n",
      "Train Step: [1040/1050], ce_loss: 2.168831, update_loss: 2.168831, top1_acc: 0.459896, top5_acc: 0.739193, top10_acc: 0.813932, top50_acc: 0.986328, top100_acc: 1.000000, Speed: 0.057 m/s, Passed: 0.199 h, Estimate: 0.050 h\n",
      "Train Step: [1050/1050], ce_loss: 2.096419, update_loss: 2.096419, top1_acc: 0.454167, top5_acc: 0.700391, top10_acc: 0.821875, top50_acc: 0.998438, top100_acc: 1.000000, Speed: 0.058 m/s, Passed: 0.248 h, Estimate: 0.000 h\n"
     ]
    }
   ],
   "source": [
    "## Single GPU fine-tuning\n",
    "%run start_train.py"
   ]
  },
  {
   "cell_type": "markdown",
   "metadata": {},
   "source": [
    "## Testing "
   ]
  },
  {
   "cell_type": "markdown",
   "metadata": {},
   "source": [
    "### Load results and evaluate. "
   ]
  },
  {
   "cell_type": "code",
   "execution_count": 6,
   "metadata": {},
   "outputs": [
    {
     "name": "stdout",
     "output_type": "stream",
     "text": [
      "dataset info: ../data/Resting_t_example_test.h5ad 3158\n",
      "dataset info: ../data/Re-stimulated_t_example_train.h5ad 5690\n"
     ]
    },
    {
     "name": "stderr",
     "output_type": "stream",
     "text": [
      "100%|██████████| 3158/3158 [15:56<00:00,  3.30it/s]\n"
     ]
    }
   ],
   "source": [
    "## Here we load results on step 1000 as an example. \n",
    "\n",
    "%run load_results.py -c 1000"
   ]
  },
  {
   "cell_type": "code",
   "execution_count": 7,
   "metadata": {},
   "outputs": [
    {
     "name": "stdout",
     "output_type": "stream",
     "text": [
      "                      ABCB10    AKAP12      ALX4  APOBEC3C  APOBEC3D  \\\n",
      "TGCATCCTCGATCCAA-4 -7.821463 -1.156066  0.904565 -5.127326 -7.951521   \n",
      "TTGGATGGTATCCTCC-2 -7.477587 -1.947112 -1.975892 -1.696544 -7.003691   \n",
      "AACCACAGTCTCCCTA-1 -9.641579 -3.978698 -5.091012 -5.724802 -5.395859   \n",
      "TAGAGTCTCATGGATC-4 -1.639565 -2.339934  0.846601 -3.660203 -7.996193   \n",
      "TTTCAGTTCCATTCGC-2 -3.726980 -3.369183 -4.184911  0.105774 -1.985862   \n",
      "\n",
      "                       APOL2   ARHGDIB    BICDL2      CBY1       CD2  ...  \\\n",
      "TGCATCCTCGATCCAA-4 -1.957271  2.360333 -5.758391 -6.885813 -9.281010  ...   \n",
      "TTGGATGGTATCCTCC-2 -2.546962  1.258157 -2.950146 -0.769823 -4.229147  ...   \n",
      "AACCACAGTCTCCCTA-1 -5.997128 -5.460759 -0.255089 -5.033724 -3.466392  ...   \n",
      "TAGAGTCTCATGGATC-4 -2.124491  1.050665 -0.941778  1.620585 -2.813236  ...   \n",
      "TTTCAGTTCCATTCGC-2 -2.452409  2.454847 -1.646882 -0.831029 -1.429325  ...   \n",
      "\n",
      "                       TAGAP     TBX21  TNFRSF1A   TNFRSF1B   TNFRSF9  \\\n",
      "TGCATCCTCGATCCAA-4 -9.457092 -5.753242 -6.170871 -10.717887 -5.622791   \n",
      "TTGGATGGTATCCTCC-2 -2.295697 -5.560549 -3.188946 -10.100318 -3.876570   \n",
      "AACCACAGTCTCCCTA-1 -2.127382 -5.730026 -2.677795  -4.256061 -3.211844   \n",
      "TAGAGTCTCATGGATC-4 -0.399501 -3.543861 -5.370579 -10.807867 -0.852403   \n",
      "TTTCAGTTCCATTCGC-2 -0.681239 -5.872741 -4.059673  -7.269981 -2.935251   \n",
      "\n",
      "                    TNFRSF12A  TRAF3IP2    TRIM21      VAV1       WT1  \n",
      "TGCATCCTCGATCCAA-4  -1.512885 -8.452597 -1.819332 -5.750784 -2.827259  \n",
      "TTGGATGGTATCCTCC-2   0.070525 -3.797031 -4.854851 -7.181687  0.396741  \n",
      "AACCACAGTCTCCCTA-1   1.078254 -3.936965 -5.897006 -8.137145 -3.409272  \n",
      "TAGAGTCTCATGGATC-4   0.740322 -3.069075  0.221845 -9.051618 -1.450138  \n",
      "TTTCAGTTCCATTCGC-2   0.625919 -4.718899 -2.151842 -6.627671  0.087041  \n",
      "\n",
      "[5 rows x 70 columns]\n"
     ]
    }
   ],
   "source": [
    "import pandas as pd\n",
    "import scanpy as sc\n",
    "from sklearn.metrics import accuracy_score, f1_score\n",
    "import numpy as np\n",
    "\n",
    "\n",
    "df = pd.read_csv('set3_test_example_results.csv', index_col=0)\n",
    "\n",
    "## The rows represent cell names and columns represent perturbed genes, with each value indicating the logits.\n",
    "print(df.head())\n"
   ]
  },
  {
   "cell_type": "code",
   "execution_count": 8,
   "metadata": {},
   "outputs": [
    {
     "name": "stdout",
     "output_type": "stream",
     "text": [
      "Testing accuracy (for toy dataset): 0.510\n",
      "Testing F1 score (for toy dataset): 0.498\n"
     ]
    }
   ],
   "source": [
    "adata_test = sc.read_h5ad(params['dataset_dir']+params['test_data'])\n",
    "perturb_gene = adata_test.obs['perturbation'].values\n",
    "\n",
    "df['pred_gene'] = df.idxmax(axis=1)\n",
    "pred_gene = df['pred_gene'].values\n",
    "\n",
    "\n",
    "accuracy = accuracy_score(perturb_gene, pred_gene)\n",
    "f1 = f1_score(perturb_gene, pred_gene, average='weighted')\n",
    "\n",
    "\n",
    "print(f\"Testing accuracy (for toy dataset): {accuracy:.3f}\")\n",
    "print(f\"Testing F1 score (for toy dataset): {f1:.3f}\")"
   ]
  }
 ],
 "metadata": {
  "kernelspec": {
   "display_name": "Python(scleap)",
   "language": "python",
   "name": "scleap"
  },
  "language_info": {
   "codemirror_mode": {
    "name": "ipython",
    "version": 3
   },
   "file_extension": ".py",
   "mimetype": "text/x-python",
   "name": "python",
   "nbconvert_exporter": "python",
   "pygments_lexer": "ipython3",
   "version": "3.12.4"
  }
 },
 "nbformat": 4,
 "nbformat_minor": 2
}
